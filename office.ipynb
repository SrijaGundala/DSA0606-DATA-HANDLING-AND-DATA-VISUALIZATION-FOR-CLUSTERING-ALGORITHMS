{
  "nbformat": 4,
  "nbformat_minor": 0,
  "metadata": {
    "colab": {
      "provenance": []
    },
    "kernelspec": {
      "name": "python3",
      "display_name": "Python 3"
    },
    "language_info": {
      "name": "python"
    }
  },
  "cells": [
    {
      "cell_type": "code",
      "execution_count": null,
      "metadata": {
        "colab": {
          "base_uri": "https://localhost:8080/"
        },
        "id": "RqmfdUFDbXgb",
        "outputId": "6983c586-9222-4329-d9ad-e7b0ff07f51e"
      },
      "outputs": [
        {
          "output_type": "stream",
          "name": "stdout",
          "text": [
            "Requirement already satisfied: requests in /usr/local/lib/python3.10/dist-packages (2.31.0)\n",
            "Requirement already satisfied: charset-normalizer<4,>=2 in /usr/local/lib/python3.10/dist-packages (from requests) (3.3.2)\n",
            "Requirement already satisfied: idna<4,>=2.5 in /usr/local/lib/python3.10/dist-packages (from requests) (3.6)\n",
            "Requirement already satisfied: urllib3<3,>=1.21.1 in /usr/local/lib/python3.10/dist-packages (from requests) (2.0.7)\n",
            "Requirement already satisfied: certifi>=2017.4.17 in /usr/local/lib/python3.10/dist-packages (from requests) (2024.2.2)\n",
            "Requirement already satisfied: BeautifulSoup4 in /usr/local/lib/python3.10/dist-packages (4.12.3)\n",
            "Requirement already satisfied: soupsieve>1.2 in /usr/local/lib/python3.10/dist-packages (from BeautifulSoup4) (2.5)\n"
          ]
        }
      ],
      "source": [
        "!pip install requests\n",
        "!pip install BeautifulSoup4"
      ]
    },
    {
      "cell_type": "code",
      "source": [
        "import requests\n",
        "import pandas as pd\n",
        "from bs4 import BeautifulSoup\n",
        "from google.colab import drive\n",
        "drive.mount('/content/drive')\n"
      ],
      "metadata": {
        "id": "UW-TYWBhhlHf",
        "colab": {
          "base_uri": "https://localhost:8080/"
        },
        "outputId": "f0714af4-c021-4182-bb1e-121741190013"
      },
      "execution_count": null,
      "outputs": [
        {
          "output_type": "stream",
          "name": "stdout",
          "text": [
            "Drive already mounted at /content/drive; to attempt to forcibly remount, call drive.mount(\"/content/drive\", force_remount=True).\n"
          ]
        }
      ]
    },
    {
      "cell_type": "code",
      "source": [
        "excel_file_path = '/content/drive/My Drive/FILE1.xlsx'"
      ],
      "metadata": {
        "id": "3UtkJr5rkOI0"
      },
      "execution_count": null,
      "outputs": []
    },
    {
      "cell_type": "code",
      "source": [
        "df = pd.read_excel(excel_file_path)\n",
        "print(df)"
      ],
      "metadata": {
        "colab": {
          "base_uri": "https://localhost:8080/"
        },
        "id": "hegBaf3rl5gk",
        "outputId": "a7ab84b5-5ec4-4257-8f05-489d354d9334"
      },
      "execution_count": null,
      "outputs": [
        {
          "output_type": "stream",
          "name": "stdout",
          "text": [
            "                            NAME  Address\n",
            "0            CHENNAI POLYGRANITE      NaN\n",
            "1       CHENNAI POLYMER PRODUCTS      NaN\n",
            "2      CHENNAI POLYMERS PVT.LTD.      NaN\n",
            "3          CHENNAI POLYMER HOUSE      NaN\n",
            "4       CHENNAI POLYPACK PVT LTD      NaN\n",
            "5  CHENNAI POLES PRIVATE LIMITED      NaN\n"
          ]
        }
      ]
    },
    {
      "cell_type": "code",
      "source": [
        "import pandas as pd\n",
        "import requests\n",
        "\n",
        "def send_request(company_name):\n",
        "    url = f\"https://www.knowyourgst.com/gst-number-search/by-name-pan/{company_name}/\"\n",
        "\n",
        "    try:\n",
        "        response = requests.get(url)\n",
        "        if response.status_code == 200:\n",
        "            return response.text\n",
        "        else:\n",
        "            return f\"Request failed with status code {response.status_code}\"\n",
        "    except requests.exceptions.RequestException as e:\n",
        "        return f\"An error occurred: {str(e)}\"\n",
        "\n",
        "if __name__ == \"__main__\":\n",
        "    excel_file_path = '/content/drive/My Drive/FILE1.xlsx'  # Replace with the path to your Excel file\n",
        "    df = pd.read_excel(excel_file_path, usecols=['NAME'])  # Assuming 'name' is the column containing company names\n",
        "    df['NAME'] = df['NAME'].str.lower()\n",
        "\n",
        "    for index, row in df.iterrows():\n",
        "        company_name = row['NAME']\n",
        "        result = send_request(company_name)\n",
        "        print(f\"Company: {company_name}\\nResult: {result}\\n\")\n"
      ],
      "metadata": {
        "colab": {
          "base_uri": "https://localhost:8080/"
        },
        "id": "J6-CtFCnmBpg",
        "outputId": "7d505265-1e4b-4de6-f598-d0fee1be5425"
      },
      "execution_count": null,
      "outputs": [
        {
          "output_type": "stream",
          "name": "stdout",
          "text": [
            "Company: chennai polygranite\n",
            "Result: Request failed with status code 404\n",
            "\n",
            "Company: chennai polymer products\n",
            "Result: Request failed with status code 404\n",
            "\n",
            "Company: chennai polymers pvt.ltd.\n",
            "Result: Request failed with status code 404\n",
            "\n",
            "Company: chennai polymer house\n",
            "Result: Request failed with status code 404\n",
            "\n",
            "Company: chennai polypack pvt ltd\n",
            "Result: Request failed with status code 404\n",
            "\n",
            "Company: chennai poles private limited\n",
            "Result: Request failed with status code 404\n",
            "\n"
          ]
        }
      ]
    },
    {
      "cell_type": "code",
      "source": [],
      "metadata": {
        "id": "XzV_W6d1oYwe"
      },
      "execution_count": null,
      "outputs": []
    },
    {
      "cell_type": "code",
      "source": [],
      "metadata": {
        "id": "j689sOs3oc4M"
      },
      "execution_count": null,
      "outputs": []
    },
    {
      "cell_type": "code",
      "source": [
        "if __name__ == \"__main__\":\n",
        "    url = \"https://www.knowyourgst.com/gst-number-search/by-name-pan/\"\n",
        "    input_data = input(\"Enter the Business Name or GST Number: \")\n",
        "    data = {'search_query': input_data}\n"
      ],
      "metadata": {
        "colab": {
          "base_uri": "https://localhost:8080/"
        },
        "id": "_YbuJNZGhoII",
        "outputId": "ed323f0c-954a-4ccb-f937-9a9627c28f42"
      },
      "execution_count": null,
      "outputs": [
        {
          "name": "stdout",
          "output_type": "stream",
          "text": [
            "Enter the Business Name or GST Number: \tCHENNAI POLES PRIVATE LIMITED\n"
          ]
        }
      ]
    },
    {
      "cell_type": "markdown",
      "source": [],
      "metadata": {
        "id": "Fw_jda7pjEA_"
      }
    },
    {
      "cell_type": "code",
      "source": [
        "import requests\n",
        "from bs4 import BeautifulSoup\n",
        "\n",
        "def extract_address(company_name, html_content):\n",
        "    soup = BeautifulSoup(html_content, 'html.parser')\n",
        "    rows = soup.find_all('tr')\n",
        "    for row in rows:\n",
        "        cells = row.find_all('td')\n",
        "        print(len(cells))\n",
        "        if len(cells) == 2:\n",
        "            header = cells[0].text.strip()\n",
        "            if header == \"Business Name\" and cells[1].text.strip() == company_name:\n",
        "                address_row = row.find_next_sibling('tr')\n",
        "                if address_row:\n",
        "                    address_cell = address_row.find('td')\n",
        "                    if address_cell:\n",
        "                        return address_cell.text.strip()\n",
        "    return \"Address not found.\"\n",
        "\n",
        "if __name__ == \"__main__\":\n",
        "    url = \"https://www.knowyourgst.com/gst-number-search/by-name-pan/\"\n",
        "    company_name = input(\"Enter the company name: \")\n",
        "    data = {'search_query': company_name}\n",
        "\n",
        "    try:\n",
        "        response = requests.post(url, data=data)\n",
        "        if response.status_code == 200:\n",
        "            address = extract_address(company_name, response.text)\n",
        "            print(\"Address:\", address)\n",
        "        else:\n",
        "            print(f\"Request failed with status code {response.status_code}\")\n",
        "    except requests.exceptions.RequestException as e:\n",
        "        print(f\"An error occurred: {str(e)}\")\n"
      ],
      "metadata": {
        "colab": {
          "base_uri": "https://localhost:8080/"
        },
        "id": "KrS26PDohx9O",
        "outputId": "32a80988-9647-4e14-ac71-60f2c5be509a"
      },
      "execution_count": 19,
      "outputs": [
        {
          "output_type": "stream",
          "name": "stdout",
          "text": [
            "Enter the company name: uuhojo\n",
            "Address: Address not found.\n"
          ]
        }
      ]
    },
    {
      "cell_type": "code",
      "source": [
        "url = \"https://www.knowyourgst.com/gst-number-search/hyundai-motor-india-limited-33AAACH2364M1ZM/\""
      ],
      "metadata": {
        "id": "NKZRQxPOoeY8"
      },
      "execution_count": 3,
      "outputs": []
    },
    {
      "cell_type": "code",
      "source": [
        "import requests\n",
        "response = requests.get(url)"
      ],
      "metadata": {
        "id": "AZfYOclpolK4"
      },
      "execution_count": 5,
      "outputs": []
    },
    {
      "cell_type": "code",
      "source": [
        "soup = BeautifulSoup(response.content)"
      ],
      "metadata": {
        "id": "0B7xDN3mqkOx"
      },
      "execution_count": 12,
      "outputs": []
    },
    {
      "cell_type": "code",
      "source": [],
      "metadata": {
        "id": "U4cDasc1scl0"
      },
      "execution_count": null,
      "outputs": []
    },
    {
      "cell_type": "code",
      "source": [
        "rows = soup.find_all('tr')"
      ],
      "metadata": {
        "id": "WS5yjOVlq6sw"
      },
      "execution_count": 32,
      "outputs": []
    },
    {
      "cell_type": "code",
      "source": [
        "extract_address(\"gcgvyvh\",response.content)"
      ],
      "metadata": {
        "colab": {
          "base_uri": "https://localhost:8080/",
          "height": 35
        },
        "id": "5uWjqrlesKlN",
        "outputId": "ba0919b9-fd77-44f8-ad0c-4b97949e8b2c"
      },
      "execution_count": 20,
      "outputs": [
        {
          "output_type": "execute_result",
          "data": {
            "text/plain": [
              "'Address not found.'"
            ],
            "application/vnd.google.colaboratory.intrinsic+json": {
              "type": "string"
            }
          },
          "metadata": {},
          "execution_count": 20
        }
      ]
    },
    {
      "cell_type": "code",
      "source": [
        "for i in range(len(rows)):\n",
        "  if rows[i] == '<td>Address</td>':\n",
        "    print(rows[i+1])\n",
        "    break"
      ],
      "metadata": {
        "id": "vLrYFsqesM4Z"
      },
      "execution_count": 24,
      "outputs": []
    },
    {
      "cell_type": "code",
      "source": [
        "type(rows[4])"
      ],
      "metadata": {
        "colab": {
          "base_uri": "https://localhost:8080/",
          "height": 186
        },
        "id": "jdMNKACYteJd",
        "outputId": "37c990bb-b2d8-47e5-a766-4c42fd7ac483"
      },
      "execution_count": 27,
      "outputs": [
        {
          "output_type": "execute_result",
          "data": {
            "text/plain": [
              "bs4.element.Tag"
            ],
            "text/html": [
              "<div style=\"max-width:800px; border: 1px solid var(--colab-border-color);\"><style>\n",
              "      pre.function-repr-contents {\n",
              "        overflow-x: auto;\n",
              "        padding: 8px 12px;\n",
              "        max-height: 500px;\n",
              "      }\n",
              "\n",
              "      pre.function-repr-contents.function-repr-contents-collapsed {\n",
              "        cursor: pointer;\n",
              "        max-height: 100px;\n",
              "      }\n",
              "    </style>\n",
              "    <pre style=\"white-space: initial; background:\n",
              "         var(--colab-secondary-surface-color); padding: 8px 12px;\n",
              "         border-bottom: 1px solid var(--colab-border-color);\"><b>bs4.element.Tag</b><br/>def __call__(*args, **kwargs)</pre><pre class=\"function-repr-contents function-repr-contents-collapsed\" style=\"\"><a class=\"filepath\" style=\"display:none\" href=\"#\">/usr/local/lib/python3.10/dist-packages/bs4/element.py</a>Represents an HTML or XML tag that is part of a parse tree, along\n",
              "with its attributes and contents.\n",
              "\n",
              "When Beautiful Soup parses the markup &lt;b&gt;penguin&lt;/b&gt;, it will\n",
              "create a Tag object representing the &lt;b&gt; tag.</pre>\n",
              "      <script>\n",
              "      if (google.colab.kernel.accessAllowed && google.colab.files && google.colab.files.view) {\n",
              "        for (const element of document.querySelectorAll('.filepath')) {\n",
              "          element.style.display = 'block'\n",
              "          element.onclick = (event) => {\n",
              "            event.preventDefault();\n",
              "            event.stopPropagation();\n",
              "            google.colab.files.view(element.textContent, 1191);\n",
              "          };\n",
              "        }\n",
              "      }\n",
              "      for (const element of document.querySelectorAll('.function-repr-contents')) {\n",
              "        element.onclick = (event) => {\n",
              "          event.preventDefault();\n",
              "          event.stopPropagation();\n",
              "          element.classList.toggle('function-repr-contents-collapsed');\n",
              "        };\n",
              "      }\n",
              "      </script>\n",
              "      </div>"
            ]
          },
          "metadata": {},
          "execution_count": 27
        }
      ]
    },
    {
      "cell_type": "code",
      "source": [
        "req = soup.find('tbody')"
      ],
      "metadata": {
        "id": "4wbw_v-6uPlw"
      },
      "execution_count": 37,
      "outputs": []
    },
    {
      "cell_type": "code",
      "source": [
        "req.find_all('tr')[2].find_all('td')[1].text"
      ],
      "metadata": {
        "colab": {
          "base_uri": "https://localhost:8080/",
          "height": 35
        },
        "id": "jyvT0u3bvii-",
        "outputId": "0504c468-80c3-4655-fb58-3b98493d5ff5"
      },
      "execution_count": 47,
      "outputs": [
        {
          "output_type": "execute_result",
          "data": {
            "text/plain": [
              "'SIPCOT Industrial Park Plot No. H1  NH4 Irrungattukottai, Sriperumbudur Tamil Nadu\\n                                '"
            ],
            "application/vnd.google.colaboratory.intrinsic+json": {
              "type": "string"
            }
          },
          "metadata": {},
          "execution_count": 47
        }
      ]
    },
    {
      "cell_type": "code",
      "source": [],
      "metadata": {
        "id": "yGaQnS7QwBsA"
      },
      "execution_count": null,
      "outputs": []
    }
  ]
}